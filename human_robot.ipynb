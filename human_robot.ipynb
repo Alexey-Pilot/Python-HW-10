{
  "nbformat": 4,
  "nbformat_minor": 0,
  "metadata": {
    "colab": {
      "provenance": [],
      "authorship_tag": "ABX9TyM+1yZNywUgFXGtw8OkX6Wg",
      "include_colab_link": true
    },
    "kernelspec": {
      "name": "python3",
      "display_name": "Python 3"
    },
    "language_info": {
      "name": "python"
    }
  },
  "cells": [
    {
      "cell_type": "markdown",
      "metadata": {
        "id": "view-in-github",
        "colab_type": "text"
      },
      "source": [
        "<a href=\"https://colab.research.google.com/github/Alexey-Pilot/Python-HW-10/blob/main/human_robot.ipynb\" target=\"_parent\"><img src=\"https://colab.research.google.com/assets/colab-badge.svg\" alt=\"Open In Colab\"/></a>"
      ]
    },
    {
      "cell_type": "code",
      "execution_count": null,
      "metadata": {
        "id": "OwbU8vv3GqtV"
      },
      "outputs": [],
      "source": [
        "import pandas as pd\n",
        "import random\n",
        "lst = ['robot'] * 10\n",
        "lst += ['human'] * 10\n",
        "random.shuffle(lst)"
      ]
    },
    {
      "cell_type": "code",
      "source": [
        "\n",
        "\n",
        "data = pd.DataFrame({'human': map(lambda x: int(x == \"human\"), lst), 'robot': map(lambda x: int(x == \"robot\"), lst)})\n",
        "print(data.head())"
      ],
      "metadata": {
        "colab": {
          "base_uri": "https://localhost:8080/"
        },
        "id": "kRum603-Gsli",
        "outputId": "52f4718f-d330-42d8-8e89-9b455f5dcb96"
      },
      "execution_count": null,
      "outputs": [
        {
          "output_type": "stream",
          "name": "stdout",
          "text": [
            "   human  robot\n",
            "0      0      1\n",
            "1      0      1\n",
            "2      1      0\n",
            "3      1      0\n",
            "4      1      0\n"
          ]
        }
      ]
    },
    {
      "cell_type": "code",
      "source": [
        "data_1 = pd.DataFrame({\"whoAmI\": lst})\n",
        "data_1 = pd.get_dummies(data_1, columns=['whoAmI'], drop_first=False)\n",
        "print(data_1.head())"
      ],
      "metadata": {
        "colab": {
          "base_uri": "https://localhost:8080/"
        },
        "id": "N87oCJn_N_J5",
        "outputId": "4e162e31-3278-493e-ce45-e44107e3c719"
      },
      "execution_count": null,
      "outputs": [
        {
          "output_type": "stream",
          "name": "stdout",
          "text": [
            "   whoAmI_human  whoAmI_robot\n",
            "0             0             1\n",
            "1             0             1\n",
            "2             1             0\n",
            "3             1             0\n",
            "4             1             0\n"
          ]
        }
      ]
    }
  ]
}